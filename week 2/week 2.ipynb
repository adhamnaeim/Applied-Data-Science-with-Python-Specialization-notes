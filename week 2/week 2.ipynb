{
 "cells": [
  {
   "cell_type": "markdown",
   "metadata": {},
   "source": [
    "# Materials to consume\n",
    "Python for data analysis - Wes McKinney (indepth)\n",
    "Learning the pandas Library - Matt Harrison (quick)\n",
    "\n",
    "Planetpython.org (rss feed)\n",
    "\n",
    "Python bytes by Michael Kennedy (podcast)\n",
    "data skeptic Podcast"
   ]
  },
  {
   "cell_type": "markdown",
   "metadata": {},
   "source": [
    "# Series data structure in pandas"
   ]
  },
  {
   "cell_type": "code",
   "execution_count": 3,
   "metadata": {},
   "outputs": [],
   "source": [
    "import pandas as pd"
   ]
  },
  {
   "cell_type": "code",
   "execution_count": 4,
   "metadata": {},
   "outputs": [
    {
     "name": "stdout",
     "output_type": "stream",
     "text": [
      "0           hunger games\n",
      "1           harry potter\n",
      "2    alice in wonderland\n",
      "dtype: object\n",
      "-------------------------------------------------\n",
      "we can see here, since a list does not have any keys or indices. \n",
      " the series creates an index numerically (0,1,2)\n",
      "-------------------------------------------------\n",
      "notice that the series type is object since we passed in strings\n"
     ]
    }
   ],
   "source": [
    "#a series is a mixture between a list and a dictionary, where a series has a key and a value \n",
    "#but each column has its own attribute\n",
    "#but think of the keys as the index in a series\n",
    "\n",
    "#creating a series from a made list\n",
    "books = [\"hunger games\", \"harry potter\",\"alice in wonderland\"]\n",
    "print(pd.Series(books))\n",
    "print('-------------------------------------------------')\n",
    "print(\"we can see here, since a list does not have any keys or indices. \\n the series creates an index numerically (0,1,2)\")\n",
    "print('-------------------------------------------------')\n",
    "print('notice that the series type is object since we passed in strings')"
   ]
  },
  {
   "cell_type": "code",
   "execution_count": 5,
   "metadata": {},
   "outputs": [
    {
     "name": "stdout",
     "output_type": "stream",
     "text": [
      "0    1\n",
      "1    2\n",
      "2    3\n",
      "3    4\n",
      "4    5\n",
      "dtype: int64\n",
      "-------------------------------------------------\n",
      "we can see here that the type changed to int. \n",
      " what if there was a float in one of them?\n",
      "0    1.1\n",
      "1    2.0\n",
      "2    3.0\n",
      "3    4.0\n",
      "4    5.0\n",
      "dtype: float64\n",
      "-------------------------------------------------\n",
      "since integers are maskable, the series type gets turned into floats\n"
     ]
    }
   ],
   "source": [
    "#what if we passed in strings\n",
    "numbers = [1,2,3,4,5]\n",
    "print(pd.Series(numbers))\n",
    "print('-------------------------------------------------')\n",
    "print('we can see here that the type changed to int. \\n what if there was a float in one of them?')\n",
    "numbers = [1.1,2,3,4,5]\n",
    "print(pd.Series(numbers))\n",
    "print('-------------------------------------------------')\n",
    "print('since integers are maskable, the series type gets turned into floats')"
   ]
  },
  {
   "cell_type": "code",
   "execution_count": 6,
   "metadata": {},
   "outputs": [
    {
     "name": "stdout",
     "output_type": "stream",
     "text": [
      "0           hunger games\n",
      "1           harry potter\n",
      "2    alice in wonderland\n",
      "3                   None\n",
      "dtype: object\n",
      "-------------------------------------------------\n",
      "if we pass a list of integers with the same None, this happens\n",
      "-------------------------------------------------\n",
      "0    1.1\n",
      "1    2.0\n",
      "2    3.0\n",
      "3    4.0\n",
      "4    5.0\n",
      "5    NaN\n",
      "dtype: float64\n",
      "-------------------------------------------------\n",
      "the series gets masked automatically to Float \n",
      " this is done for mathematical reasons\n"
     ]
    }
   ],
   "source": [
    "#NaN and None\n",
    "#when a series is created using strings and contains a missing object,\n",
    "#it is referred to as None\n",
    "books = [\"hunger games\", \"harry potter\",\"alice in wonderland\", None]\n",
    "print(pd.Series(books))\n",
    "print('-------------------------------------------------')\n",
    "print('if we pass a list of integers with the same None, this happens')\n",
    "print('-------------------------------------------------')\n",
    "numbers = [1.1,2,3,4,5,None]\n",
    "print(pd.Series(numbers))\n",
    "print('-------------------------------------------------')\n",
    "print('the series gets masked automatically to Float \\n this is done for mathematical reasons')\n"
   ]
  },
  {
   "cell_type": "code",
   "execution_count": 7,
   "metadata": {},
   "outputs": [
    {
     "name": "stdout",
     "output_type": "stream",
     "text": [
      "infact, no two NaN's are the same\n",
      "False\n",
      "neither NaN is equal to None\n",
      "False\n"
     ]
    }
   ],
   "source": [
    "print(\"infact, no two NaN's are the same\")\n",
    "import numpy as np\n",
    "print(np.nan == np.nan)\n",
    "print(\"neither NaN is equal to None\")\n",
    "print(np.nan == None)"
   ]
  },
  {
   "cell_type": "code",
   "execution_count": 8,
   "metadata": {},
   "outputs": [
    {
     "name": "stdout",
     "output_type": "stream",
     "text": [
      "adham     Nile\n",
      "melad     Nile\n",
      "nashar     NaN\n",
      "dtype: object\n",
      "-------------------------------------------------\n",
      "we can see here, even though dodo had a value \n",
      " but his index was neglected since it wasn't call\n",
      "but even though nashar was not in the dict, his index was called/created hence the NaN\n"
     ]
    }
   ],
   "source": [
    "#panda's series deal with missing data differently\n",
    "#for example if the series has a missing index, it will add it with a value of none\n",
    "dict1 = {\n",
    "    'adham' : 'Nile',\n",
    "    'melad' : 'Nile',\n",
    "    'dodo'  : 'Must'\n",
    "}\n",
    "print(pd.Series(dict1,index=['adham','melad','nashar']))\n",
    "print('-------------------------------------------------')\n",
    "print(\"we can see here, even though dodo had a value \\n but his index was neglected since it wasn't call\")\n",
    "print(\"but even though nashar was not in the dict, his index was called/created hence the NaN\")"
   ]
  },
  {
   "cell_type": "markdown",
   "metadata": {},
   "source": [
    "# Query\n",
    "the meaning of query is to ask a question when in doubt of something, similar to when we ask for the value of a certain index in a series."
   ]
  },
  {
   "cell_type": "code",
   "execution_count": 15,
   "metadata": {},
   "outputs": [
    {
     "name": "stdout",
     "output_type": "stream",
     "text": [
      "iloc method:  Must\n",
      "loc method:  Nile\n"
     ]
    }
   ],
   "source": [
    "#Loc and ILoc \n",
    "#to index an entry in a series, you can index it using its numerical automated indexing \n",
    "#or the by pulling the actual index name\n",
    "\n",
    "series = pd.Series({\n",
    "        'adham' : 'Nile',\n",
    "        'melad' : 'Nile',\n",
    "        'dodo'  : 'Must'\n",
    "})\n",
    "\n",
    "#I-loc (integer Loc)\n",
    "print(\"iloc method: \",series.iloc[2])\n",
    "#we queried the value of the \"3rd\" entry by its numerical value\n",
    "\n",
    "#loc (object)\n",
    "print(\"loc method: \",series.loc[\"adham\"])"
   ]
  },
  {
   "cell_type": "code",
   "execution_count": 27,
   "metadata": {},
   "outputs": [
    {
     "name": "stdout",
     "output_type": "stream",
     "text": [
      "calling an integer-indexed dataset using numerical indexing caused confusion\n",
      "english-101\n",
      "english-101\n"
     ]
    }
   ],
   "source": [
    "# you can query an entry by its index numerically or objectively automatically without loc or Iloc too\n",
    "#but be aware when you have a dataset that contains integers as its index\n",
    "series = pd.Series({\n",
    "    101:'english-101',\n",
    "    102:'english-102',\n",
    "    201:'english-201',\n",
    "    202:'english-202'\n",
    "})\n",
    "try:\n",
    "    series[0]\n",
    "except:\n",
    "    print(\"calling an integer-indexed dataset using numerical indexing caused confusion\")\n",
    "print(series.iloc[0])\n",
    "print(series.loc[101])"
   ]
  },
  {
   "cell_type": "code",
   "execution_count": 33,
   "metadata": {},
   "outputs": [
    {
     "name": "stdout",
     "output_type": "stream",
     "text": [
      "adham     Nile\n",
      "melad     Nile\n",
      "dodo      Must\n",
      "khaled    Must\n",
      "ashraf     GUC\n",
      "dtype: object\n"
     ]
    }
   ],
   "source": [
    "#loc and ILoc can create new data and even change it\n",
    "#thankfully, loc and Iloc cannot create a new data entry without an actual value\n",
    "series = pd.Series({\n",
    "        'adham' : 'Nile',\n",
    "        'melad' : 'Nile',\n",
    "        'dodo'  : 'Must',\n",
    "        'khaled': 'Nile'\n",
    "})\n",
    "series.loc['ashraf'] = 'GUC' #created a new data index\n",
    "series.loc['khaled'] = 'Must' #changed the value of an existing data index\n",
    "print(series)"
   ]
  },
  {
   "cell_type": "code",
   "execution_count": 40,
   "metadata": {},
   "outputs": [
    {
     "name": "stdout",
     "output_type": "stream",
     "text": [
      "adham     Nile\n",
      "melad     Nile\n",
      "dodo      Must\n",
      "khaled    Nile\n",
      "adham        3\n",
      "melad      3.6\n",
      "dodo         3\n",
      "khaled     2.9\n",
      "dtype: object\n",
      "-------------------------------------------------\n",
      "printing my data only\n",
      "adham    Nile\n",
      "adham       3\n",
      "dtype: object\n",
      "appending a series with another creates another series \n",
      " instead of manipulating the existing ones\n",
      "-------------------------------------------------\n",
      "when [loc]ating a data entry with multiple indicies, it will return a new formed series\n",
      "---printing the previous series type---\n",
      "<class 'pandas.core.series.Series'>\n"
     ]
    }
   ],
   "source": [
    "#you can also append series as you do in lists.\n",
    "uni = pd.Series({\n",
    "        'adham' : 'Nile',\n",
    "        'melad' : 'Nile',\n",
    "        'dodo'  : 'Must',\n",
    "        'khaled': 'Nile'\n",
    "})\n",
    "gpa = pd.Series({\n",
    "        'adham' : 3.0,\n",
    "        'melad' : 3.6,\n",
    "        'dodo'  : 3.0,\n",
    "        'khaled': 2.9\n",
    "})\n",
    "appended = uni.append(gpa)\n",
    "print(appended)\n",
    "print('-------------------------------------------------')\n",
    "print('printing my data only')\n",
    "print(appended.loc['adham'])\n",
    "print('appending a series with another creates another series \\n instead of manipulating the existing ones')\n",
    "print('-------------------------------------------------')\n",
    "print('when [loc]ating a data entry with multiple indicies, it will return a new formed series')\n",
    "print('---printing the previous series type---')\n",
    "print(type(appended.loc['adham']))"
   ]
  },
  {
   "cell_type": "markdown",
   "metadata": {},
   "source": [
    "# The power of vectorization\n",
    "I wont go to much details about the importance of vectorization but all you need to know that it's significantly faster than traditional programming. so whenever you catch your self iterating on a huge dataset one by one to execute some kind of function, remember that you can treat the whole dataset as vectors which would allow to parallel computer, hence faster results."
   ]
  },
  {
   "cell_type": "markdown",
   "metadata": {},
   "source": [
    "# series.Head()\n",
    "It prints the first 5 indices in the dataset"
   ]
  },
  {
   "cell_type": "markdown",
   "metadata": {},
   "source": [
    "# dataframes, matrices of pandas\n",
    "you can think of a dataframe as a matrix but with labels mandatory labels for the columns and optional set labels for the rows"
   ]
  },
  {
   "cell_type": "code",
   "execution_count": 55,
   "metadata": {},
   "outputs": [
    {
     "name": "stdout",
     "output_type": "stream",
     "text": [
      "        assign1  assign2  assign3  quiz1  quiz2  final\n",
      "adham         9        5        4     10      1     40\n",
      "melad        10        8        7      2     10     38\n",
      "nashar        5       10       10      8      7     35\n",
      "nashar        0        3       10      4      1      0\n",
      "dataframes can take a list of dictionaries directly instead of a list of series\n"
     ]
    }
   ],
   "source": [
    "#first I created a few series for each student marks along the semester\n",
    "adham = pd.Series({\n",
    "    'assign1' : 9,\n",
    "    'assign2' : 5,\n",
    "    'assign3' : 4,\n",
    "    'quiz1' : 10,\n",
    "    'quiz2' : 1,\n",
    "    'final' : 40\n",
    "})\n",
    "melad = pd.Series({\n",
    "    'assign1' : 10,\n",
    "    'assign2' : 8,\n",
    "    'assign3' : 7,\n",
    "    'quiz1' : 2,\n",
    "    'quiz2' : 10,\n",
    "    'final' : 38\n",
    "})\n",
    "nashar = pd.Series({\n",
    "    'assign1' : 5,\n",
    "    'assign2' : 10,\n",
    "    'assign3' : 10,\n",
    "    'quiz1' : 8,\n",
    "    'quiz2' : 7,\n",
    "    'final' : 35\n",
    "})\n",
    "nashar1 = pd.Series({\n",
    "    'assign1' : 0,\n",
    "    'assign2' : 3,\n",
    "    'assign3' : 10,\n",
    "    'quiz1' : 4,\n",
    "    'quiz2' : 1,\n",
    "    'final' : 0\n",
    "})\n",
    "#then added all series in the datadframe while adding their names as index\n",
    "df = pd.DataFrame([adham,melad,nashar,nashar1], index=['adham','melad','nashar','nashar'])\n",
    "print(df)\n",
    "print('dataframes can take a list of dictionaries directly instead of a list of series')"
   ]
  },
  {
   "cell_type": "code",
   "execution_count": 56,
   "metadata": {},
   "outputs": [
    {
     "name": "stdout",
     "output_type": "stream",
     "text": [
      "assign1     9\n",
      "assign2     5\n",
      "assign3     4\n",
      "quiz1      10\n",
      "quiz2       1\n",
      "final      40\n",
      "Name: adham, dtype: int64\n",
      "-------------------------------------------------\n",
      "when extracting a row from a dataframe, it creates a series instance of the row\n",
      "the type of the extracted row ->> <class 'pandas.core.series.Series'>\n"
     ]
    }
   ],
   "source": [
    "#lets see what happens when we call the record of adham\n",
    "print(df.loc['adham'])\n",
    "print('-------------------------------------------------')\n",
    "print('when extracting a row from a dataframe, it creates a series instance of the row')\n",
    "print(\"the type of the extracted row ->>\",type(df.loc['adham']))\n"
   ]
  },
  {
   "cell_type": "code",
   "execution_count": 61,
   "metadata": {},
   "outputs": [
    {
     "name": "stdout",
     "output_type": "stream",
     "text": [
      "        assign1  assign2  assign3  quiz1  quiz2  final\n",
      "nashar        5       10       10      8      7     35\n",
      "nashar        0        3       10      4      1      0\n",
      "-------------------------------------------------\n",
      "the type of the extracted row ->> <class 'pandas.core.frame.DataFrame'>\n"
     ]
    }
   ],
   "source": [
    "#however when extracting a dataentry that has multiple indicies \n",
    "#(students with multiple id's for for ex)\n",
    "#it returns a dataframe fit with all series collected.\n",
    "print(df.loc['nashar'])\n",
    "print('-------------------------------------------------')\n",
    "\n",
    "print(\"the type of the extracted row ->>\",type(df.loc['nashar']))"
   ]
  },
  {
   "cell_type": "code",
   "execution_count": 84,
   "metadata": {},
   "outputs": [
    {
     "name": "stdout",
     "output_type": "stream",
     "text": [
      "nashar    35\n",
      "nashar     0\n",
      "Name: final, dtype: int64\n",
      "True\n",
      "-------------------------------------------------\n",
      "here the type of the extraction is a series since \"nashar\" has multiple indices in the dataframe\n",
      "the type of the extracted row ->> <class 'pandas.core.series.Series'>\n"
     ]
    }
   ],
   "source": [
    "#you can also select specific data when assign the column and the rows in loc\n",
    "print(df.loc['nashar','final'])\n",
    "print((df.loc['nashar','final']).equals((df.loc['nashar']['final'])))\n",
    "print('-------------------------------------------------')\n",
    "print('here the type of the extraction is a series since \"nashar\" has multiple indices in the dataframe')\n",
    "print(\"the type of the extracted row ->>\",type(df.loc['nashar']['final']))"
   ]
  },
  {
   "cell_type": "code",
   "execution_count": 71,
   "metadata": {},
   "outputs": [
    {
     "name": "stdout",
     "output_type": "stream",
     "text": [
      "38\n",
      "-------------------------------------------------\n",
      "distinctively, when extracting information from a data entry with a singular indicies /n\n",
      "      it returns the variable type inside the cell \n",
      "the type of the extracted row ->> <class 'numpy.int64'>\n"
     ]
    }
   ],
   "source": [
    "print(df.loc['melad']['final'])\n",
    "print('-------------------------------------------------')\n",
    "print('''distinctively, when extracting information from a data entry with a singular indicies /n\n",
    "      it returns the variable type inside the cell ''')\n",
    "print(\"the type of the extracted row ->>\",type(df.loc['melad']['final']))"
   ]
  },
  {
   "cell_type": "markdown",
   "metadata": {},
   "source": [
    "# what if you wanted to collect columns instead of row?"
   ]
  },
  {
   "cell_type": "code",
   "execution_count": 74,
   "metadata": {},
   "outputs": [
    {
     "name": "stdout",
     "output_type": "stream",
     "text": [
      "adham     40\n",
      "melad     38\n",
      "nashar    35\n",
      "nashar     0\n",
      "Name: final, dtype: int64\n",
      "-------------------------------------------------\n",
      "it will return the final grades of each student in the dataframe\n"
     ]
    }
   ],
   "source": [
    "#you can transpose the dataframe! exchanging the rows with the columns to perform the same methods\n",
    "print(df.T.loc['final'])\n",
    "print('-------------------------------------------------')\n",
    "print('it will return the final grades of each student in the dataframe')"
   ]
  },
  {
   "cell_type": "code",
   "execution_count": 85,
   "metadata": {},
   "outputs": [
    {
     "name": "stdout",
     "output_type": "stream",
     "text": [
      "adham     40\n",
      "melad     38\n",
      "nashar    35\n",
      "nashar     0\n",
      "Name: final, dtype: int64\n",
      "-------------------------------------------------\n",
      "same result in the previous code!\n",
      "and since we are extracting a singular column, the type will be ->> <class 'pandas.core.series.Series'>\n",
      "bool checking if the both dataframes are similar ->> True\n"
     ]
    }
   ],
   "source": [
    "#we know that loc and Iloc selects data from rows\n",
    "#when we use the indexing operator \"[]\" directly on the dataframe, it targets the COLUMNS\n",
    "print(df['final'])\n",
    "print('-------------------------------------------------')\n",
    "print('same result in the previous code!')\n",
    "print(\"and since we are extracting a singular column, the type will be ->>\",type(df['final']))\n",
    "print(\"bool checking if the both dataframes are similar ->>\",(df['final']).equals(df.T.loc['final']))"
   ]
  },
  {
   "cell_type": "code",
   "execution_count": 102,
   "metadata": {},
   "outputs": [
    {
     "name": "stdout",
     "output_type": "stream",
     "text": [
      "        quiz1  quiz2  final\n",
      "melad       2     10     38\n",
      "nashar      8      7     35\n",
      "nashar      4      1      0\n",
      "-------------------------------------------------\n",
      "here we extracted the quizzes and final grades for all students, exluding me, the first indices\n"
     ]
    }
   ],
   "source": [
    "#we can also slice the dataframe\n",
    "print(df.iloc[1:,-3:])\n",
    "print('-------------------------------------------------')\n",
    "print('here we extracted the quizzes and final grades for all students, exluding me, the first indices')"
   ]
  },
  {
   "cell_type": "markdown",
   "metadata": {},
   "source": [
    "# deleting data!"
   ]
  },
  {
   "cell_type": "code",
   "execution_count": 106,
   "metadata": {},
   "outputs": [
    {
     "name": "stdout",
     "output_type": "stream",
     "text": [
      "       assign1  assign2  assign3  quiz1  quiz2  final\n",
      "adham        9        5        4     10      1     40\n",
      "melad       10        8        7      2     10     38\n",
      "-------------------------------------------------\n",
      "dropping all nashar data\n"
     ]
    }
   ],
   "source": [
    "#drop\n",
    "print(df.drop('nashar'))\n",
    "print('-------------------------------------------------')\n",
    "print('dropping all nashar data')"
   ]
  },
  {
   "cell_type": "code",
   "execution_count": 123,
   "metadata": {},
   "outputs": [
    {
     "name": "stdout",
     "output_type": "stream",
     "text": [
      "        assign1  assign2  assign3  quiz1  final\n",
      "adham         9        5        4     10     40\n",
      "melad        10        8        7      2     38\n",
      "nashar        5       10       10      8     35\n",
      "nashar        0        3       10      4      0\n",
      "-------------------------------------------------\n",
      "dropping all quiz2 data\n"
     ]
    }
   ],
   "source": [
    "#what if we wanted to drop a column?\n",
    "#yes we can transpose, delete the column(pseudo row) then transpose back\n",
    "#but we can use the drop function and setting the axis setting to 1,\n",
    "#to inform the function that it will drop a column not a row\n",
    "#and we will give it an inplace which will change the original dataframe instead of manipulating it\n",
    "copy_df = df.copy()\n",
    "copy_df.drop(\"quiz2\",inplace=True,axis=1)\n",
    "print(copy_df)\n",
    "print('-------------------------------------------------')\n",
    "print('dropping all quiz2 data')"
   ]
  },
  {
   "cell_type": "code",
   "execution_count": 124,
   "metadata": {},
   "outputs": [
    {
     "name": "stdout",
     "output_type": "stream",
     "text": [
      "        assign1  assign2  assign3  final\n",
      "adham         9        5        4     40\n",
      "melad        10        8        7     38\n",
      "nashar        5       10       10     35\n",
      "nashar        0        3       10      0\n"
     ]
    }
   ],
   "source": [
    "#another method of deleting a columns that's as risky\n",
    "#del, it deletes the column instantly in the original dataframe\n",
    "del copy_df['quiz1']\n",
    "print(copy_df)"
   ]
  },
  {
   "cell_type": "code",
   "execution_count": 128,
   "metadata": {},
   "outputs": [
    {
     "data": {
      "text/html": [
       "<div>\n",
       "<style scoped>\n",
       "    .dataframe tbody tr th:only-of-type {\n",
       "        vertical-align: middle;\n",
       "    }\n",
       "\n",
       "    .dataframe tbody tr th {\n",
       "        vertical-align: top;\n",
       "    }\n",
       "\n",
       "    .dataframe thead th {\n",
       "        text-align: right;\n",
       "    }\n",
       "</style>\n",
       "<table border=\"1\" class=\"dataframe\">\n",
       "  <thead>\n",
       "    <tr style=\"text-align: right;\">\n",
       "      <th></th>\n",
       "      <th>assign1</th>\n",
       "      <th>assign2</th>\n",
       "      <th>assign3</th>\n",
       "      <th>quiz1</th>\n",
       "      <th>quiz2</th>\n",
       "      <th>final</th>\n",
       "      <th>markupQuiz</th>\n",
       "      <th>bonus</th>\n",
       "    </tr>\n",
       "  </thead>\n",
       "  <tbody>\n",
       "    <tr>\n",
       "      <th>adham</th>\n",
       "      <td>9</td>\n",
       "      <td>5</td>\n",
       "      <td>4</td>\n",
       "      <td>10</td>\n",
       "      <td>1</td>\n",
       "      <td>40</td>\n",
       "      <td>1</td>\n",
       "      <td>100</td>\n",
       "    </tr>\n",
       "    <tr>\n",
       "      <th>melad</th>\n",
       "      <td>10</td>\n",
       "      <td>8</td>\n",
       "      <td>7</td>\n",
       "      <td>2</td>\n",
       "      <td>10</td>\n",
       "      <td>38</td>\n",
       "      <td>1</td>\n",
       "      <td>100</td>\n",
       "    </tr>\n",
       "    <tr>\n",
       "      <th>nashar</th>\n",
       "      <td>5</td>\n",
       "      <td>10</td>\n",
       "      <td>10</td>\n",
       "      <td>8</td>\n",
       "      <td>7</td>\n",
       "      <td>35</td>\n",
       "      <td>1</td>\n",
       "      <td>100</td>\n",
       "    </tr>\n",
       "    <tr>\n",
       "      <th>nashar</th>\n",
       "      <td>0</td>\n",
       "      <td>3</td>\n",
       "      <td>10</td>\n",
       "      <td>4</td>\n",
       "      <td>1</td>\n",
       "      <td>0</td>\n",
       "      <td>1</td>\n",
       "      <td>100</td>\n",
       "    </tr>\n",
       "  </tbody>\n",
       "</table>\n",
       "</div>"
      ],
      "text/plain": [
       "        assign1  assign2  assign3  quiz1  quiz2  final  markupQuiz  bonus\n",
       "adham         9        5        4     10      1     40           1    100\n",
       "melad        10        8        7      2     10     38           1    100\n",
       "nashar        5       10       10      8      7     35           1    100\n",
       "nashar        0        3       10      4      1      0           1    100"
      ]
     },
     "execution_count": 128,
     "metadata": {},
     "output_type": "execute_result"
    }
   ],
   "source": [
    "# we can also create new columns with a unified value for data entries\n",
    "df['bonus'] = 100 \n",
    "df"
   ]
  },
  {
   "cell_type": "markdown",
   "metadata": {},
   "source": [
    "# PANDAS DOES NOT MANIPULATE THE ORIGINAL DATAFRAME WHEN FUNCTIONS APPLIED\n",
    "a copy of the dataframe gets manipulated instead of the original one"
   ]
  },
  {
   "cell_type": "markdown",
   "metadata": {},
   "source": [
    "# opening csv files\n"
   ]
  },
  {
   "cell_type": "code",
   "execution_count": 137,
   "metadata": {},
   "outputs": [
    {
     "data": {
      "text/html": [
       "<div>\n",
       "<style scoped>\n",
       "    .dataframe tbody tr th:only-of-type {\n",
       "        vertical-align: middle;\n",
       "    }\n",
       "\n",
       "    .dataframe tbody tr th {\n",
       "        vertical-align: top;\n",
       "    }\n",
       "\n",
       "    .dataframe thead th {\n",
       "        text-align: right;\n",
       "    }\n",
       "</style>\n",
       "<table border=\"1\" class=\"dataframe\">\n",
       "  <thead>\n",
       "    <tr style=\"text-align: right;\">\n",
       "      <th></th>\n",
       "      <th>Serial No.</th>\n",
       "      <th>GRE Score</th>\n",
       "      <th>TOEFL Score</th>\n",
       "      <th>University Rating</th>\n",
       "      <th>SOP</th>\n",
       "      <th>LOR</th>\n",
       "      <th>CGPA</th>\n",
       "      <th>Research</th>\n",
       "      <th>Chance of Admit</th>\n",
       "    </tr>\n",
       "  </thead>\n",
       "  <tbody>\n",
       "    <tr>\n",
       "      <th>0</th>\n",
       "      <td>1</td>\n",
       "      <td>337</td>\n",
       "      <td>118</td>\n",
       "      <td>4</td>\n",
       "      <td>4.5</td>\n",
       "      <td>4.5</td>\n",
       "      <td>9.65</td>\n",
       "      <td>1</td>\n",
       "      <td>0.92</td>\n",
       "    </tr>\n",
       "    <tr>\n",
       "      <th>1</th>\n",
       "      <td>2</td>\n",
       "      <td>324</td>\n",
       "      <td>107</td>\n",
       "      <td>4</td>\n",
       "      <td>4.0</td>\n",
       "      <td>4.5</td>\n",
       "      <td>8.87</td>\n",
       "      <td>1</td>\n",
       "      <td>0.76</td>\n",
       "    </tr>\n",
       "    <tr>\n",
       "      <th>2</th>\n",
       "      <td>3</td>\n",
       "      <td>316</td>\n",
       "      <td>104</td>\n",
       "      <td>3</td>\n",
       "      <td>3.0</td>\n",
       "      <td>3.5</td>\n",
       "      <td>8.00</td>\n",
       "      <td>1</td>\n",
       "      <td>0.72</td>\n",
       "    </tr>\n",
       "    <tr>\n",
       "      <th>3</th>\n",
       "      <td>4</td>\n",
       "      <td>322</td>\n",
       "      <td>110</td>\n",
       "      <td>3</td>\n",
       "      <td>3.5</td>\n",
       "      <td>2.5</td>\n",
       "      <td>8.67</td>\n",
       "      <td>1</td>\n",
       "      <td>0.80</td>\n",
       "    </tr>\n",
       "    <tr>\n",
       "      <th>4</th>\n",
       "      <td>5</td>\n",
       "      <td>314</td>\n",
       "      <td>103</td>\n",
       "      <td>2</td>\n",
       "      <td>2.0</td>\n",
       "      <td>3.0</td>\n",
       "      <td>8.21</td>\n",
       "      <td>0</td>\n",
       "      <td>0.65</td>\n",
       "    </tr>\n",
       "    <tr>\n",
       "      <th>...</th>\n",
       "      <td>...</td>\n",
       "      <td>...</td>\n",
       "      <td>...</td>\n",
       "      <td>...</td>\n",
       "      <td>...</td>\n",
       "      <td>...</td>\n",
       "      <td>...</td>\n",
       "      <td>...</td>\n",
       "      <td>...</td>\n",
       "    </tr>\n",
       "    <tr>\n",
       "      <th>395</th>\n",
       "      <td>396</td>\n",
       "      <td>324</td>\n",
       "      <td>110</td>\n",
       "      <td>3</td>\n",
       "      <td>3.5</td>\n",
       "      <td>3.5</td>\n",
       "      <td>9.04</td>\n",
       "      <td>1</td>\n",
       "      <td>0.82</td>\n",
       "    </tr>\n",
       "    <tr>\n",
       "      <th>396</th>\n",
       "      <td>397</td>\n",
       "      <td>325</td>\n",
       "      <td>107</td>\n",
       "      <td>3</td>\n",
       "      <td>3.0</td>\n",
       "      <td>3.5</td>\n",
       "      <td>9.11</td>\n",
       "      <td>1</td>\n",
       "      <td>0.84</td>\n",
       "    </tr>\n",
       "    <tr>\n",
       "      <th>397</th>\n",
       "      <td>398</td>\n",
       "      <td>330</td>\n",
       "      <td>116</td>\n",
       "      <td>4</td>\n",
       "      <td>5.0</td>\n",
       "      <td>4.5</td>\n",
       "      <td>9.45</td>\n",
       "      <td>1</td>\n",
       "      <td>0.91</td>\n",
       "    </tr>\n",
       "    <tr>\n",
       "      <th>398</th>\n",
       "      <td>399</td>\n",
       "      <td>312</td>\n",
       "      <td>103</td>\n",
       "      <td>3</td>\n",
       "      <td>3.5</td>\n",
       "      <td>4.0</td>\n",
       "      <td>8.78</td>\n",
       "      <td>0</td>\n",
       "      <td>0.67</td>\n",
       "    </tr>\n",
       "    <tr>\n",
       "      <th>399</th>\n",
       "      <td>400</td>\n",
       "      <td>333</td>\n",
       "      <td>117</td>\n",
       "      <td>4</td>\n",
       "      <td>5.0</td>\n",
       "      <td>4.0</td>\n",
       "      <td>9.66</td>\n",
       "      <td>1</td>\n",
       "      <td>0.95</td>\n",
       "    </tr>\n",
       "  </tbody>\n",
       "</table>\n",
       "<p>400 rows × 9 columns</p>\n",
       "</div>"
      ],
      "text/plain": [
       "     Serial No.  GRE Score  TOEFL Score  University Rating  SOP  LOR   CGPA  \\\n",
       "0             1        337          118                  4  4.5   4.5  9.65   \n",
       "1             2        324          107                  4  4.0   4.5  8.87   \n",
       "2             3        316          104                  3  3.0   3.5  8.00   \n",
       "3             4        322          110                  3  3.5   2.5  8.67   \n",
       "4             5        314          103                  2  2.0   3.0  8.21   \n",
       "..          ...        ...          ...                ...  ...   ...   ...   \n",
       "395         396        324          110                  3  3.5   3.5  9.04   \n",
       "396         397        325          107                  3  3.0   3.5  9.11   \n",
       "397         398        330          116                  4  5.0   4.5  9.45   \n",
       "398         399        312          103                  3  3.5   4.0  8.78   \n",
       "399         400        333          117                  4  5.0   4.0  9.66   \n",
       "\n",
       "     Research  Chance of Admit   \n",
       "0           1              0.92  \n",
       "1           1              0.76  \n",
       "2           1              0.72  \n",
       "3           1              0.80  \n",
       "4           0              0.65  \n",
       "..        ...               ...  \n",
       "395         1              0.82  \n",
       "396         1              0.84  \n",
       "397         1              0.91  \n",
       "398         0              0.67  \n",
       "399         1              0.95  \n",
       "\n",
       "[400 rows x 9 columns]"
      ]
     },
     "execution_count": 137,
     "metadata": {},
     "output_type": "execute_result"
    }
   ],
   "source": [
    "#using the read_csv command\n",
    "df = pd.read_csv('Admission_predict.csv')\n",
    "df"
   ]
  },
  {
   "cell_type": "code",
   "execution_count": 139,
   "metadata": {},
   "outputs": [
    {
     "data": {
      "text/html": [
       "<div>\n",
       "<style scoped>\n",
       "    .dataframe tbody tr th:only-of-type {\n",
       "        vertical-align: middle;\n",
       "    }\n",
       "\n",
       "    .dataframe tbody tr th {\n",
       "        vertical-align: top;\n",
       "    }\n",
       "\n",
       "    .dataframe thead th {\n",
       "        text-align: right;\n",
       "    }\n",
       "</style>\n",
       "<table border=\"1\" class=\"dataframe\">\n",
       "  <thead>\n",
       "    <tr style=\"text-align: right;\">\n",
       "      <th></th>\n",
       "      <th>GRE Score</th>\n",
       "      <th>TOEFL Score</th>\n",
       "      <th>University Rating</th>\n",
       "      <th>SOP</th>\n",
       "      <th>LOR</th>\n",
       "      <th>CGPA</th>\n",
       "      <th>Research</th>\n",
       "      <th>Chance of Admit</th>\n",
       "    </tr>\n",
       "    <tr>\n",
       "      <th>Serial No.</th>\n",
       "      <th></th>\n",
       "      <th></th>\n",
       "      <th></th>\n",
       "      <th></th>\n",
       "      <th></th>\n",
       "      <th></th>\n",
       "      <th></th>\n",
       "      <th></th>\n",
       "    </tr>\n",
       "  </thead>\n",
       "  <tbody>\n",
       "    <tr>\n",
       "      <th>1</th>\n",
       "      <td>337</td>\n",
       "      <td>118</td>\n",
       "      <td>4</td>\n",
       "      <td>4.5</td>\n",
       "      <td>4.5</td>\n",
       "      <td>9.65</td>\n",
       "      <td>1</td>\n",
       "      <td>0.92</td>\n",
       "    </tr>\n",
       "    <tr>\n",
       "      <th>2</th>\n",
       "      <td>324</td>\n",
       "      <td>107</td>\n",
       "      <td>4</td>\n",
       "      <td>4.0</td>\n",
       "      <td>4.5</td>\n",
       "      <td>8.87</td>\n",
       "      <td>1</td>\n",
       "      <td>0.76</td>\n",
       "    </tr>\n",
       "    <tr>\n",
       "      <th>3</th>\n",
       "      <td>316</td>\n",
       "      <td>104</td>\n",
       "      <td>3</td>\n",
       "      <td>3.0</td>\n",
       "      <td>3.5</td>\n",
       "      <td>8.00</td>\n",
       "      <td>1</td>\n",
       "      <td>0.72</td>\n",
       "    </tr>\n",
       "    <tr>\n",
       "      <th>4</th>\n",
       "      <td>322</td>\n",
       "      <td>110</td>\n",
       "      <td>3</td>\n",
       "      <td>3.5</td>\n",
       "      <td>2.5</td>\n",
       "      <td>8.67</td>\n",
       "      <td>1</td>\n",
       "      <td>0.80</td>\n",
       "    </tr>\n",
       "    <tr>\n",
       "      <th>5</th>\n",
       "      <td>314</td>\n",
       "      <td>103</td>\n",
       "      <td>2</td>\n",
       "      <td>2.0</td>\n",
       "      <td>3.0</td>\n",
       "      <td>8.21</td>\n",
       "      <td>0</td>\n",
       "      <td>0.65</td>\n",
       "    </tr>\n",
       "    <tr>\n",
       "      <th>...</th>\n",
       "      <td>...</td>\n",
       "      <td>...</td>\n",
       "      <td>...</td>\n",
       "      <td>...</td>\n",
       "      <td>...</td>\n",
       "      <td>...</td>\n",
       "      <td>...</td>\n",
       "      <td>...</td>\n",
       "    </tr>\n",
       "    <tr>\n",
       "      <th>396</th>\n",
       "      <td>324</td>\n",
       "      <td>110</td>\n",
       "      <td>3</td>\n",
       "      <td>3.5</td>\n",
       "      <td>3.5</td>\n",
       "      <td>9.04</td>\n",
       "      <td>1</td>\n",
       "      <td>0.82</td>\n",
       "    </tr>\n",
       "    <tr>\n",
       "      <th>397</th>\n",
       "      <td>325</td>\n",
       "      <td>107</td>\n",
       "      <td>3</td>\n",
       "      <td>3.0</td>\n",
       "      <td>3.5</td>\n",
       "      <td>9.11</td>\n",
       "      <td>1</td>\n",
       "      <td>0.84</td>\n",
       "    </tr>\n",
       "    <tr>\n",
       "      <th>398</th>\n",
       "      <td>330</td>\n",
       "      <td>116</td>\n",
       "      <td>4</td>\n",
       "      <td>5.0</td>\n",
       "      <td>4.5</td>\n",
       "      <td>9.45</td>\n",
       "      <td>1</td>\n",
       "      <td>0.91</td>\n",
       "    </tr>\n",
       "    <tr>\n",
       "      <th>399</th>\n",
       "      <td>312</td>\n",
       "      <td>103</td>\n",
       "      <td>3</td>\n",
       "      <td>3.5</td>\n",
       "      <td>4.0</td>\n",
       "      <td>8.78</td>\n",
       "      <td>0</td>\n",
       "      <td>0.67</td>\n",
       "    </tr>\n",
       "    <tr>\n",
       "      <th>400</th>\n",
       "      <td>333</td>\n",
       "      <td>117</td>\n",
       "      <td>4</td>\n",
       "      <td>5.0</td>\n",
       "      <td>4.0</td>\n",
       "      <td>9.66</td>\n",
       "      <td>1</td>\n",
       "      <td>0.95</td>\n",
       "    </tr>\n",
       "  </tbody>\n",
       "</table>\n",
       "<p>400 rows × 8 columns</p>\n",
       "</div>"
      ],
      "text/plain": [
       "            GRE Score  TOEFL Score  University Rating  SOP  LOR   CGPA  \\\n",
       "Serial No.                                                               \n",
       "1                 337          118                  4  4.5   4.5  9.65   \n",
       "2                 324          107                  4  4.0   4.5  8.87   \n",
       "3                 316          104                  3  3.0   3.5  8.00   \n",
       "4                 322          110                  3  3.5   2.5  8.67   \n",
       "5                 314          103                  2  2.0   3.0  8.21   \n",
       "...               ...          ...                ...  ...   ...   ...   \n",
       "396               324          110                  3  3.5   3.5  9.04   \n",
       "397               325          107                  3  3.0   3.5  9.11   \n",
       "398               330          116                  4  5.0   4.5  9.45   \n",
       "399               312          103                  3  3.5   4.0  8.78   \n",
       "400               333          117                  4  5.0   4.0  9.66   \n",
       "\n",
       "            Research  Chance of Admit   \n",
       "Serial No.                              \n",
       "1                  1              0.92  \n",
       "2                  1              0.76  \n",
       "3                  1              0.72  \n",
       "4                  1              0.80  \n",
       "5                  0              0.65  \n",
       "...              ...               ...  \n",
       "396                1              0.82  \n",
       "397                1              0.84  \n",
       "398                1              0.91  \n",
       "399                0              0.67  \n",
       "400                1              0.95  \n",
       "\n",
       "[400 rows x 8 columns]"
      ]
     },
     "execution_count": 139,
     "metadata": {},
     "output_type": "execute_result"
    }
   ],
   "source": [
    "#we can see that we already have a column that we can use as an indexing column\n",
    "#we will use the index_col attribute while reading the csv file\n",
    "df = pd.read_csv('Admission_predict.csv', index_col=0)\n",
    "df"
   ]
  },
  {
   "cell_type": "code",
   "execution_count": 142,
   "metadata": {},
   "outputs": [
    {
     "data": {
      "text/plain": [
       "Index(['GRE Score', 'TOEFL Score', 'University Rating', 'SOP', 'LOR', 'CGPA',\n",
       "       'Research', 'Chance of Admit'],\n",
       "      dtype='object')"
      ]
     },
     "execution_count": 142,
     "metadata": {},
     "output_type": "execute_result"
    }
   ],
   "source": [
    "# we can also rename columns in the csv files using the rename command\n",
    "#here we will strip the column names from any unneccessary space that might \n",
    "new_df = df.rename(mapper=str.strip, axis= 'columns')\n",
    "new_df.columns"
   ]
  },
  {
   "cell_type": "code",
   "execution_count": 145,
   "metadata": {},
   "outputs": [
    {
     "data": {
      "text/html": [
       "<div>\n",
       "<style scoped>\n",
       "    .dataframe tbody tr th:only-of-type {\n",
       "        vertical-align: middle;\n",
       "    }\n",
       "\n",
       "    .dataframe tbody tr th {\n",
       "        vertical-align: top;\n",
       "    }\n",
       "\n",
       "    .dataframe thead th {\n",
       "        text-align: right;\n",
       "    }\n",
       "</style>\n",
       "<table border=\"1\" class=\"dataframe\">\n",
       "  <thead>\n",
       "    <tr style=\"text-align: right;\">\n",
       "      <th></th>\n",
       "      <th>gre score</th>\n",
       "      <th>toefl score</th>\n",
       "      <th>university rating</th>\n",
       "      <th>sop</th>\n",
       "      <th>lor</th>\n",
       "      <th>cgpa</th>\n",
       "      <th>research</th>\n",
       "      <th>chance of admit</th>\n",
       "    </tr>\n",
       "    <tr>\n",
       "      <th>Serial No.</th>\n",
       "      <th></th>\n",
       "      <th></th>\n",
       "      <th></th>\n",
       "      <th></th>\n",
       "      <th></th>\n",
       "      <th></th>\n",
       "      <th></th>\n",
       "      <th></th>\n",
       "    </tr>\n",
       "  </thead>\n",
       "  <tbody>\n",
       "    <tr>\n",
       "      <th>1</th>\n",
       "      <td>337</td>\n",
       "      <td>118</td>\n",
       "      <td>4</td>\n",
       "      <td>4.5</td>\n",
       "      <td>4.5</td>\n",
       "      <td>9.65</td>\n",
       "      <td>1</td>\n",
       "      <td>0.92</td>\n",
       "    </tr>\n",
       "    <tr>\n",
       "      <th>2</th>\n",
       "      <td>324</td>\n",
       "      <td>107</td>\n",
       "      <td>4</td>\n",
       "      <td>4.0</td>\n",
       "      <td>4.5</td>\n",
       "      <td>8.87</td>\n",
       "      <td>1</td>\n",
       "      <td>0.76</td>\n",
       "    </tr>\n",
       "    <tr>\n",
       "      <th>3</th>\n",
       "      <td>316</td>\n",
       "      <td>104</td>\n",
       "      <td>3</td>\n",
       "      <td>3.0</td>\n",
       "      <td>3.5</td>\n",
       "      <td>8.00</td>\n",
       "      <td>1</td>\n",
       "      <td>0.72</td>\n",
       "    </tr>\n",
       "    <tr>\n",
       "      <th>4</th>\n",
       "      <td>322</td>\n",
       "      <td>110</td>\n",
       "      <td>3</td>\n",
       "      <td>3.5</td>\n",
       "      <td>2.5</td>\n",
       "      <td>8.67</td>\n",
       "      <td>1</td>\n",
       "      <td>0.80</td>\n",
       "    </tr>\n",
       "    <tr>\n",
       "      <th>5</th>\n",
       "      <td>314</td>\n",
       "      <td>103</td>\n",
       "      <td>2</td>\n",
       "      <td>2.0</td>\n",
       "      <td>3.0</td>\n",
       "      <td>8.21</td>\n",
       "      <td>0</td>\n",
       "      <td>0.65</td>\n",
       "    </tr>\n",
       "    <tr>\n",
       "      <th>...</th>\n",
       "      <td>...</td>\n",
       "      <td>...</td>\n",
       "      <td>...</td>\n",
       "      <td>...</td>\n",
       "      <td>...</td>\n",
       "      <td>...</td>\n",
       "      <td>...</td>\n",
       "      <td>...</td>\n",
       "    </tr>\n",
       "    <tr>\n",
       "      <th>396</th>\n",
       "      <td>324</td>\n",
       "      <td>110</td>\n",
       "      <td>3</td>\n",
       "      <td>3.5</td>\n",
       "      <td>3.5</td>\n",
       "      <td>9.04</td>\n",
       "      <td>1</td>\n",
       "      <td>0.82</td>\n",
       "    </tr>\n",
       "    <tr>\n",
       "      <th>397</th>\n",
       "      <td>325</td>\n",
       "      <td>107</td>\n",
       "      <td>3</td>\n",
       "      <td>3.0</td>\n",
       "      <td>3.5</td>\n",
       "      <td>9.11</td>\n",
       "      <td>1</td>\n",
       "      <td>0.84</td>\n",
       "    </tr>\n",
       "    <tr>\n",
       "      <th>398</th>\n",
       "      <td>330</td>\n",
       "      <td>116</td>\n",
       "      <td>4</td>\n",
       "      <td>5.0</td>\n",
       "      <td>4.5</td>\n",
       "      <td>9.45</td>\n",
       "      <td>1</td>\n",
       "      <td>0.91</td>\n",
       "    </tr>\n",
       "    <tr>\n",
       "      <th>399</th>\n",
       "      <td>312</td>\n",
       "      <td>103</td>\n",
       "      <td>3</td>\n",
       "      <td>3.5</td>\n",
       "      <td>4.0</td>\n",
       "      <td>8.78</td>\n",
       "      <td>0</td>\n",
       "      <td>0.67</td>\n",
       "    </tr>\n",
       "    <tr>\n",
       "      <th>400</th>\n",
       "      <td>333</td>\n",
       "      <td>117</td>\n",
       "      <td>4</td>\n",
       "      <td>5.0</td>\n",
       "      <td>4.0</td>\n",
       "      <td>9.66</td>\n",
       "      <td>1</td>\n",
       "      <td>0.95</td>\n",
       "    </tr>\n",
       "  </tbody>\n",
       "</table>\n",
       "<p>400 rows × 8 columns</p>\n",
       "</div>"
      ],
      "text/plain": [
       "            gre score  toefl score  university rating  sop  lor  cgpa  \\\n",
       "Serial No.                                                              \n",
       "1                 337          118                  4  4.5  4.5  9.65   \n",
       "2                 324          107                  4  4.0  4.5  8.87   \n",
       "3                 316          104                  3  3.0  3.5  8.00   \n",
       "4                 322          110                  3  3.5  2.5  8.67   \n",
       "5                 314          103                  2  2.0  3.0  8.21   \n",
       "...               ...          ...                ...  ...  ...   ...   \n",
       "396               324          110                  3  3.5  3.5  9.04   \n",
       "397               325          107                  3  3.0  3.5  9.11   \n",
       "398               330          116                  4  5.0  4.5  9.45   \n",
       "399               312          103                  3  3.5  4.0  8.78   \n",
       "400               333          117                  4  5.0  4.0  9.66   \n",
       "\n",
       "            research  chance of admit  \n",
       "Serial No.                             \n",
       "1                  1             0.92  \n",
       "2                  1             0.76  \n",
       "3                  1             0.72  \n",
       "4                  1             0.80  \n",
       "5                  0             0.65  \n",
       "...              ...              ...  \n",
       "396                1             0.82  \n",
       "397                1             0.84  \n",
       "398                1             0.91  \n",
       "399                0             0.67  \n",
       "400                1             0.95  \n",
       "\n",
       "[400 rows x 8 columns]"
      ]
     },
     "execution_count": 145,
     "metadata": {},
     "output_type": "execute_result"
    }
   ],
   "source": [
    "#lets say we want to make all letters lower case\n",
    "cols=list(df.columns)\n",
    "cols = [x.lower().strip() for x in cols]\n",
    "df.columns = cols\n",
    "df"
   ]
  },
  {
   "cell_type": "markdown",
   "metadata": {},
   "source": [
    "# boolean query!"
   ]
  },
  {
   "cell_type": "code",
   "execution_count": 160,
   "metadata": {},
   "outputs": [
    {
     "name": "stdout",
     "output_type": "stream",
     "text": [
      "you can do it the traditiional way\n",
      "Serial No.\n",
      "1       True\n",
      "2       True\n",
      "3       True\n",
      "4       True\n",
      "5      False\n",
      "       ...  \n",
      "396     True\n",
      "397     True\n",
      "398     True\n",
      "399    False\n",
      "400     True\n",
      "Name: chance of admit, Length: 400, dtype: bool\n",
      "-------------------------------------------------\n"
     ]
    }
   ],
   "source": [
    "df = pd.read_csv('Admission_predict.csv', index_col=0)\n",
    "cols=list(df.columns)\n",
    "cols = [x.lower().strip() for x in cols]\n",
    "df.columns = cols\n",
    "print('you can do it the traditiional way')\n",
    "print(df['chance of admit'] > 0.7)\n",
    "print('-------------------------------------------------')\n",
    "\n"
   ]
  },
  {
   "cell_type": "code",
   "execution_count": 161,
   "metadata": {},
   "outputs": [
    {
     "name": "stdout",
     "output_type": "stream",
     "text": [
      "we can then apply the boolean series on the dataframe to rule out the false\n",
      "-------------------------------------------------\n"
     ]
    },
    {
     "data": {
      "text/html": [
       "<div>\n",
       "<style scoped>\n",
       "    .dataframe tbody tr th:only-of-type {\n",
       "        vertical-align: middle;\n",
       "    }\n",
       "\n",
       "    .dataframe tbody tr th {\n",
       "        vertical-align: top;\n",
       "    }\n",
       "\n",
       "    .dataframe thead th {\n",
       "        text-align: right;\n",
       "    }\n",
       "</style>\n",
       "<table border=\"1\" class=\"dataframe\">\n",
       "  <thead>\n",
       "    <tr style=\"text-align: right;\">\n",
       "      <th></th>\n",
       "      <th>gre score</th>\n",
       "      <th>toefl score</th>\n",
       "      <th>university rating</th>\n",
       "      <th>sop</th>\n",
       "      <th>lor</th>\n",
       "      <th>cgpa</th>\n",
       "      <th>research</th>\n",
       "      <th>chance of admit</th>\n",
       "    </tr>\n",
       "    <tr>\n",
       "      <th>Serial No.</th>\n",
       "      <th></th>\n",
       "      <th></th>\n",
       "      <th></th>\n",
       "      <th></th>\n",
       "      <th></th>\n",
       "      <th></th>\n",
       "      <th></th>\n",
       "      <th></th>\n",
       "    </tr>\n",
       "  </thead>\n",
       "  <tbody>\n",
       "    <tr>\n",
       "      <th>1</th>\n",
       "      <td>337.0</td>\n",
       "      <td>118.0</td>\n",
       "      <td>4.0</td>\n",
       "      <td>4.5</td>\n",
       "      <td>4.5</td>\n",
       "      <td>9.65</td>\n",
       "      <td>1.0</td>\n",
       "      <td>0.92</td>\n",
       "    </tr>\n",
       "    <tr>\n",
       "      <th>2</th>\n",
       "      <td>324.0</td>\n",
       "      <td>107.0</td>\n",
       "      <td>4.0</td>\n",
       "      <td>4.0</td>\n",
       "      <td>4.5</td>\n",
       "      <td>8.87</td>\n",
       "      <td>1.0</td>\n",
       "      <td>0.76</td>\n",
       "    </tr>\n",
       "    <tr>\n",
       "      <th>3</th>\n",
       "      <td>316.0</td>\n",
       "      <td>104.0</td>\n",
       "      <td>3.0</td>\n",
       "      <td>3.0</td>\n",
       "      <td>3.5</td>\n",
       "      <td>8.00</td>\n",
       "      <td>1.0</td>\n",
       "      <td>0.72</td>\n",
       "    </tr>\n",
       "    <tr>\n",
       "      <th>4</th>\n",
       "      <td>322.0</td>\n",
       "      <td>110.0</td>\n",
       "      <td>3.0</td>\n",
       "      <td>3.5</td>\n",
       "      <td>2.5</td>\n",
       "      <td>8.67</td>\n",
       "      <td>1.0</td>\n",
       "      <td>0.80</td>\n",
       "    </tr>\n",
       "    <tr>\n",
       "      <th>5</th>\n",
       "      <td>NaN</td>\n",
       "      <td>NaN</td>\n",
       "      <td>NaN</td>\n",
       "      <td>NaN</td>\n",
       "      <td>NaN</td>\n",
       "      <td>NaN</td>\n",
       "      <td>NaN</td>\n",
       "      <td>NaN</td>\n",
       "    </tr>\n",
       "  </tbody>\n",
       "</table>\n",
       "</div>"
      ],
      "text/plain": [
       "            gre score  toefl score  university rating  sop  lor  cgpa  \\\n",
       "Serial No.                                                              \n",
       "1               337.0        118.0                4.0  4.5  4.5  9.65   \n",
       "2               324.0        107.0                4.0  4.0  4.5  8.87   \n",
       "3               316.0        104.0                3.0  3.0  3.5  8.00   \n",
       "4               322.0        110.0                3.0  3.5  2.5  8.67   \n",
       "5                 NaN          NaN                NaN  NaN  NaN   NaN   \n",
       "\n",
       "            research  chance of admit  \n",
       "Serial No.                             \n",
       "1                1.0             0.92  \n",
       "2                1.0             0.76  \n",
       "3                1.0             0.72  \n",
       "4                1.0             0.80  \n",
       "5                NaN              NaN  "
      ]
     },
     "execution_count": 161,
     "metadata": {},
     "output_type": "execute_result"
    }
   ],
   "source": [
    "print('we can then apply the boolean series on the dataframe to rule out the false')\n",
    "\n",
    "print('-------------------------------------------------')\n",
    "df.where(df['chance of admit'] > 0.7).head()"
   ]
  },
  {
   "cell_type": "code",
   "execution_count": 162,
   "metadata": {},
   "outputs": [
    {
     "name": "stdout",
     "output_type": "stream",
     "text": [
      "we can then remove the NaN data entries from the dataset\n",
      "-------------------------------------------------\n"
     ]
    },
    {
     "data": {
      "text/html": [
       "<div>\n",
       "<style scoped>\n",
       "    .dataframe tbody tr th:only-of-type {\n",
       "        vertical-align: middle;\n",
       "    }\n",
       "\n",
       "    .dataframe tbody tr th {\n",
       "        vertical-align: top;\n",
       "    }\n",
       "\n",
       "    .dataframe thead th {\n",
       "        text-align: right;\n",
       "    }\n",
       "</style>\n",
       "<table border=\"1\" class=\"dataframe\">\n",
       "  <thead>\n",
       "    <tr style=\"text-align: right;\">\n",
       "      <th></th>\n",
       "      <th>gre score</th>\n",
       "      <th>toefl score</th>\n",
       "      <th>university rating</th>\n",
       "      <th>sop</th>\n",
       "      <th>lor</th>\n",
       "      <th>cgpa</th>\n",
       "      <th>research</th>\n",
       "      <th>chance of admit</th>\n",
       "    </tr>\n",
       "    <tr>\n",
       "      <th>Serial No.</th>\n",
       "      <th></th>\n",
       "      <th></th>\n",
       "      <th></th>\n",
       "      <th></th>\n",
       "      <th></th>\n",
       "      <th></th>\n",
       "      <th></th>\n",
       "      <th></th>\n",
       "    </tr>\n",
       "  </thead>\n",
       "  <tbody>\n",
       "    <tr>\n",
       "      <th>1</th>\n",
       "      <td>337.0</td>\n",
       "      <td>118.0</td>\n",
       "      <td>4.0</td>\n",
       "      <td>4.5</td>\n",
       "      <td>4.5</td>\n",
       "      <td>9.65</td>\n",
       "      <td>1.0</td>\n",
       "      <td>0.92</td>\n",
       "    </tr>\n",
       "    <tr>\n",
       "      <th>2</th>\n",
       "      <td>324.0</td>\n",
       "      <td>107.0</td>\n",
       "      <td>4.0</td>\n",
       "      <td>4.0</td>\n",
       "      <td>4.5</td>\n",
       "      <td>8.87</td>\n",
       "      <td>1.0</td>\n",
       "      <td>0.76</td>\n",
       "    </tr>\n",
       "    <tr>\n",
       "      <th>3</th>\n",
       "      <td>316.0</td>\n",
       "      <td>104.0</td>\n",
       "      <td>3.0</td>\n",
       "      <td>3.0</td>\n",
       "      <td>3.5</td>\n",
       "      <td>8.00</td>\n",
       "      <td>1.0</td>\n",
       "      <td>0.72</td>\n",
       "    </tr>\n",
       "    <tr>\n",
       "      <th>4</th>\n",
       "      <td>322.0</td>\n",
       "      <td>110.0</td>\n",
       "      <td>3.0</td>\n",
       "      <td>3.5</td>\n",
       "      <td>2.5</td>\n",
       "      <td>8.67</td>\n",
       "      <td>1.0</td>\n",
       "      <td>0.80</td>\n",
       "    </tr>\n",
       "    <tr>\n",
       "      <th>6</th>\n",
       "      <td>330.0</td>\n",
       "      <td>115.0</td>\n",
       "      <td>5.0</td>\n",
       "      <td>4.5</td>\n",
       "      <td>3.0</td>\n",
       "      <td>9.34</td>\n",
       "      <td>1.0</td>\n",
       "      <td>0.90</td>\n",
       "    </tr>\n",
       "  </tbody>\n",
       "</table>\n",
       "</div>"
      ],
      "text/plain": [
       "            gre score  toefl score  university rating  sop  lor  cgpa  \\\n",
       "Serial No.                                                              \n",
       "1               337.0        118.0                4.0  4.5  4.5  9.65   \n",
       "2               324.0        107.0                4.0  4.0  4.5  8.87   \n",
       "3               316.0        104.0                3.0  3.0  3.5  8.00   \n",
       "4               322.0        110.0                3.0  3.5  2.5  8.67   \n",
       "6               330.0        115.0                5.0  4.5  3.0  9.34   \n",
       "\n",
       "            research  chance of admit  \n",
       "Serial No.                             \n",
       "1                1.0             0.92  \n",
       "2                1.0             0.76  \n",
       "3                1.0             0.72  \n",
       "4                1.0             0.80  \n",
       "6                1.0             0.90  "
      ]
     },
     "execution_count": 162,
     "metadata": {},
     "output_type": "execute_result"
    }
   ],
   "source": [
    "print('we can then remove the NaN data entries from the dataset')\n",
    "print('-------------------------------------------------')\n",
    "df.where(df['chance of admit'] > 0.7).dropna().head()"
   ]
  },
  {
   "cell_type": "code",
   "execution_count": 163,
   "metadata": {},
   "outputs": [
    {
     "name": "stdout",
     "output_type": "stream",
     "text": [
      "we can do both in one step using overloading\n",
      "-------------------------------------------------\n"
     ]
    },
    {
     "data": {
      "text/html": [
       "<div>\n",
       "<style scoped>\n",
       "    .dataframe tbody tr th:only-of-type {\n",
       "        vertical-align: middle;\n",
       "    }\n",
       "\n",
       "    .dataframe tbody tr th {\n",
       "        vertical-align: top;\n",
       "    }\n",
       "\n",
       "    .dataframe thead th {\n",
       "        text-align: right;\n",
       "    }\n",
       "</style>\n",
       "<table border=\"1\" class=\"dataframe\">\n",
       "  <thead>\n",
       "    <tr style=\"text-align: right;\">\n",
       "      <th></th>\n",
       "      <th>gre score</th>\n",
       "      <th>toefl score</th>\n",
       "      <th>university rating</th>\n",
       "      <th>sop</th>\n",
       "      <th>lor</th>\n",
       "      <th>cgpa</th>\n",
       "      <th>research</th>\n",
       "      <th>chance of admit</th>\n",
       "    </tr>\n",
       "    <tr>\n",
       "      <th>Serial No.</th>\n",
       "      <th></th>\n",
       "      <th></th>\n",
       "      <th></th>\n",
       "      <th></th>\n",
       "      <th></th>\n",
       "      <th></th>\n",
       "      <th></th>\n",
       "      <th></th>\n",
       "    </tr>\n",
       "  </thead>\n",
       "  <tbody>\n",
       "    <tr>\n",
       "      <th>1</th>\n",
       "      <td>337</td>\n",
       "      <td>118</td>\n",
       "      <td>4</td>\n",
       "      <td>4.5</td>\n",
       "      <td>4.5</td>\n",
       "      <td>9.65</td>\n",
       "      <td>1</td>\n",
       "      <td>0.92</td>\n",
       "    </tr>\n",
       "    <tr>\n",
       "      <th>2</th>\n",
       "      <td>324</td>\n",
       "      <td>107</td>\n",
       "      <td>4</td>\n",
       "      <td>4.0</td>\n",
       "      <td>4.5</td>\n",
       "      <td>8.87</td>\n",
       "      <td>1</td>\n",
       "      <td>0.76</td>\n",
       "    </tr>\n",
       "    <tr>\n",
       "      <th>3</th>\n",
       "      <td>316</td>\n",
       "      <td>104</td>\n",
       "      <td>3</td>\n",
       "      <td>3.0</td>\n",
       "      <td>3.5</td>\n",
       "      <td>8.00</td>\n",
       "      <td>1</td>\n",
       "      <td>0.72</td>\n",
       "    </tr>\n",
       "    <tr>\n",
       "      <th>4</th>\n",
       "      <td>322</td>\n",
       "      <td>110</td>\n",
       "      <td>3</td>\n",
       "      <td>3.5</td>\n",
       "      <td>2.5</td>\n",
       "      <td>8.67</td>\n",
       "      <td>1</td>\n",
       "      <td>0.80</td>\n",
       "    </tr>\n",
       "    <tr>\n",
       "      <th>6</th>\n",
       "      <td>330</td>\n",
       "      <td>115</td>\n",
       "      <td>5</td>\n",
       "      <td>4.5</td>\n",
       "      <td>3.0</td>\n",
       "      <td>9.34</td>\n",
       "      <td>1</td>\n",
       "      <td>0.90</td>\n",
       "    </tr>\n",
       "  </tbody>\n",
       "</table>\n",
       "</div>"
      ],
      "text/plain": [
       "            gre score  toefl score  university rating  sop  lor  cgpa  \\\n",
       "Serial No.                                                              \n",
       "1                 337          118                  4  4.5  4.5  9.65   \n",
       "2                 324          107                  4  4.0  4.5  8.87   \n",
       "3                 316          104                  3  3.0  3.5  8.00   \n",
       "4                 322          110                  3  3.5  2.5  8.67   \n",
       "6                 330          115                  5  4.5  3.0  9.34   \n",
       "\n",
       "            research  chance of admit  \n",
       "Serial No.                             \n",
       "1                  1             0.92  \n",
       "2                  1             0.76  \n",
       "3                  1             0.72  \n",
       "4                  1             0.80  \n",
       "6                  1             0.90  "
      ]
     },
     "execution_count": 163,
     "metadata": {},
     "output_type": "execute_result"
    }
   ],
   "source": [
    "print('we can do both in one step using overloading')\n",
    "print('-------------------------------------------------')\n",
    "df[df['chance of admit'] > 0.7].head()"
   ]
  },
  {
   "cell_type": "code",
   "execution_count": null,
   "metadata": {},
   "outputs": [],
   "source": [
    "# combining bools"
   ]
  },
  {
   "cell_type": "code",
   "execution_count": 166,
   "metadata": {},
   "outputs": [
    {
     "data": {
      "text/plain": [
       "Serial No.\n",
       "1      False\n",
       "2       True\n",
       "3       True\n",
       "4       True\n",
       "5      False\n",
       "       ...  \n",
       "396     True\n",
       "397     True\n",
       "398    False\n",
       "399    False\n",
       "400    False\n",
       "Name: chance of admit, Length: 400, dtype: bool"
      ]
     },
     "execution_count": 166,
     "metadata": {},
     "output_type": "execute_result"
    }
   ],
   "source": [
    "#in pandas you cant use the keywords and/or instead you need to use the & or |\n",
    "#use parenthathese!!!\n",
    "(df['chance of admit'] > 0.7) & (df['chance of admit'] < 0.9)"
   ]
  },
  {
   "cell_type": "code",
   "execution_count": 169,
   "metadata": {},
   "outputs": [
    {
     "data": {
      "text/plain": [
       "Serial No.\n",
       "1      False\n",
       "2       True\n",
       "3       True\n",
       "4       True\n",
       "5      False\n",
       "       ...  \n",
       "396     True\n",
       "397     True\n",
       "398    False\n",
       "399    False\n",
       "400    False\n",
       "Name: chance of admit, Length: 400, dtype: bool"
      ]
     },
     "execution_count": 169,
     "metadata": {},
     "output_type": "execute_result"
    }
   ],
   "source": [
    "#you can use built in bool functions in pandas like gt (greater than) or lt (less than)\n",
    "df['chance of admit'].gt(0.7) & df['chance of admit'].lt(0.9)"
   ]
  },
  {
   "cell_type": "code",
   "execution_count": 170,
   "metadata": {},
   "outputs": [
    {
     "data": {
      "text/plain": [
       "Serial No.\n",
       "1      False\n",
       "2      False\n",
       "3      False\n",
       "4      False\n",
       "5       True\n",
       "       ...  \n",
       "396    False\n",
       "397    False\n",
       "398    False\n",
       "399     True\n",
       "400    False\n",
       "Name: chance of admit, Length: 400, dtype: bool"
      ]
     },
     "execution_count": 170,
     "metadata": {},
     "output_type": "execute_result"
    }
   ],
   "source": [
    "#sicne they are built in functions, you can chain them\n",
    "df['chance of admit'].gt(0.7).lt(0.9)"
   ]
  },
  {
   "cell_type": "code",
   "execution_count": null,
   "metadata": {},
   "outputs": [],
   "source": [
    "print('uploading to github')"
   ]
  }
 ],
 "metadata": {
  "kernelspec": {
   "display_name": "Python 3 (ipykernel)",
   "language": "python",
   "name": "python3"
  },
  "language_info": {
   "codemirror_mode": {
    "name": "ipython",
    "version": 3
   },
   "file_extension": ".py",
   "mimetype": "text/x-python",
   "name": "python",
   "nbconvert_exporter": "python",
   "pygments_lexer": "ipython3",
   "version": "3.9.9"
  }
 },
 "nbformat": 4,
 "nbformat_minor": 4
}
